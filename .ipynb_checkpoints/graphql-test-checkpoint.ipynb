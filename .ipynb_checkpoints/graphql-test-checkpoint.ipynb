{
 "cells": [
  {
   "cell_type": "code",
   "execution_count": 51,
   "id": "a6cc8359",
   "metadata": {},
   "outputs": [],
   "source": [
    "from gql import gql, Client\n",
    "from gql.transport.requests import RequestsHTTPTransport\n",
    "from copy import deepcopy"
   ]
  },
  {
   "cell_type": "code",
   "execution_count": 52,
   "id": "cb732c3c",
   "metadata": {},
   "outputs": [],
   "source": [
    "class gql_data_processor:\n",
    "    \n",
    "    def __init__(self,url,verify=True,retries=5):\n",
    "        \n",
    "        #define url endpoint for transport\n",
    "        transport=RequestsHTTPTransport(url=url,\n",
    "                                        verify=verify,\n",
    "                                        retries=retries)\n",
    "        \n",
    "        #Create a GraphQL client using the defined transport\n",
    "        client = Client(transport=transport,fetch_schema_from_transport=True)\n",
    "        \n",
    "    def query(self,script):\n",
    "        \n",
    "        query = gql(script)\n",
    "        response = client.execute(query)\n",
    "        return response\n",
    "    \n",
    "    def query_blocks(self,script,latest_block,block_lookback,step,**kwargs):\n",
    "        \n",
    "        self.responses = []\n",
    "        current_block = deepcopy(latest_block)\n",
    "        while current_block > (latest_block-block_lookback):\n",
    "            response = self.query(script)\n",
    "            response['block'] = current_block\n",
    "            self.responses.append(response)\n",
    "            current_block = (current_block-step)"
   ]
  },
  {
   "cell_type": "code",
   "execution_count": 53,
   "id": "9a91f222",
   "metadata": {},
   "outputs": [],
   "source": [
    "url = 'https://api.thegraph.com/subgraphs/name/uniswap/uniswap-v2'\n",
    "latest_block = 12414220\n",
    "block_lookback = 5000\n",
    "step = 1000\n",
    "query = '''\n",
    "            query {\n",
    "            uniswapFactory(id: \"0x5C69bEe701ef814a2B6a3EDD4B1652CB9cc5aA6f\", block: {number: ''' + str(latest_block) + '''}) {\n",
    "                totalVolumeUSD\n",
    "                totalLiquidityUSD\n",
    "                txCount\n",
    "            }\n",
    "            }\n",
    "            '''"
   ]
  },
  {
   "cell_type": "code",
   "execution_count": 54,
   "id": "73fb6ecc",
   "metadata": {},
   "outputs": [],
   "source": [
    "uniswap_liquidity = gql_data_processor(url)\n",
    "uniswap_liquidity.query_blocks(query,latest_block,block_lookback,step)"
   ]
  },
  {
   "cell_type": "code",
   "execution_count": 55,
   "id": "d1a99884",
   "metadata": {},
   "outputs": [
    {
     "data": {
      "text/plain": [
       "[{'uniswapFactory': {'totalLiquidityUSD': '8673257419.26786615116009839173043',\n",
       "   'totalVolumeUSD': '244362408955.8474341825306790576617',\n",
       "   'txCount': '45736630'},\n",
       "  'block': 12414220},\n",
       " {'uniswapFactory': {'totalLiquidityUSD': '8673257419.26786615116009839173043',\n",
       "   'totalVolumeUSD': '244362408955.8474341825306790576617',\n",
       "   'txCount': '45736630'},\n",
       "  'block': 12414220},\n",
       " {'uniswapFactory': {'totalLiquidityUSD': '8673257419.26786615116009839173043',\n",
       "   'totalVolumeUSD': '244362408955.8474341825306790576617',\n",
       "   'txCount': '45736630'},\n",
       "  'block': 12414220},\n",
       " {'uniswapFactory': {'totalLiquidityUSD': '8673257419.26786615116009839173043',\n",
       "   'totalVolumeUSD': '244362408955.8474341825306790576617',\n",
       "   'txCount': '45736630'},\n",
       "  'block': 12414220},\n",
       " {'uniswapFactory': {'totalLiquidityUSD': '8673257419.26786615116009839173043',\n",
       "   'totalVolumeUSD': '244362408955.8474341825306790576617',\n",
       "   'txCount': '45736630'},\n",
       "  'block': 12414220}]"
      ]
     },
     "execution_count": 55,
     "metadata": {},
     "output_type": "execute_result"
    }
   ],
   "source": [
    "uniswap_liquidity.responses"
   ]
  }
 ],
 "metadata": {
  "kernelspec": {
   "display_name": "Python 3",
   "language": "python",
   "name": "python3"
  },
  "language_info": {
   "codemirror_mode": {
    "name": "ipython",
    "version": 3
   },
   "file_extension": ".py",
   "mimetype": "text/x-python",
   "name": "python",
   "nbconvert_exporter": "python",
   "pygments_lexer": "ipython3",
   "version": "3.9.1"
  }
 },
 "nbformat": 4,
 "nbformat_minor": 5
}
