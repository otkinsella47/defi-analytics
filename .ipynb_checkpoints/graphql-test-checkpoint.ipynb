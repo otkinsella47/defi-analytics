{
 "cells": [
  {
   "cell_type": "code",
   "execution_count": 30,
   "id": "a6cc8359",
   "metadata": {},
   "outputs": [],
   "source": [
    "import pandas as pd\n",
    "from gql import gql, Client\n",
    "from gql.transport.requests import RequestsHTTPTransport\n",
    "from copy import deepcopy"
   ]
  },
  {
   "cell_type": "code",
   "execution_count": 48,
   "id": "cb732c3c",
   "metadata": {},
   "outputs": [],
   "source": [
    "class gql_data_processor:\n",
    "    \n",
    "    def __init__(self,url,verify=True,retries=5):\n",
    "        \n",
    "        #define url endpoint for transport\n",
    "        transport=RequestsHTTPTransport(url=url,\n",
    "                                        verify=verify,\n",
    "                                        retries=retries)\n",
    "        \n",
    "        #Create a GraphQL client using the defined transport\n",
    "        self.client = Client(transport=transport,fetch_schema_from_transport=True)\n",
    "        \n",
    "    def query(self,script):\n",
    "        \n",
    "        query = gql(script)\n",
    "        response = self.client.execute(query)\n",
    "        return response\n",
    "    \n",
    "    def query_blocks(self,script,latest_block,block_lookback,step,entity,**kwargs):\n",
    "        \n",
    "        responses = []\n",
    "        \n",
    "        current_block = deepcopy(latest_block)\n",
    "        while current_block > (latest_block-block_lookback):\n",
    "            response = self.query(script)[entity]\n",
    "            response['block'] = current_block\n",
    "            responses.append(response)\n",
    "            current_block = (current_block-step)\n",
    "            \n",
    "        self.df = pd.DataFrame(responses)"
   ]
  },
  {
   "cell_type": "code",
   "execution_count": 53,
   "id": "9a91f222",
   "metadata": {},
   "outputs": [],
   "source": [
    "url = 'https://api.thegraph.com/subgraphs/name/uniswap/uniswap-v2'\n",
    "latest_block = 12504845\n",
    "block_lookback = 5000\n",
    "step = 10\n",
    "entity = 'uniswapFactory'\n",
    "query = '''\n",
    "            query {\n",
    "            uniswapFactory(id: \"0x5C69bEe701ef814a2B6a3EDD4B1652CB9cc5aA6f\", block: {number: ''' + str(latest_block) + '''}) {\n",
    "                totalVolumeUSD\n",
    "                totalLiquidityUSD\n",
    "                txCount\n",
    "            }\n",
    "            }\n",
    "            '''"
   ]
  },
  {
   "cell_type": "code",
   "execution_count": 54,
   "id": "73fb6ecc",
   "metadata": {},
   "outputs": [],
   "source": [
    "uniswap_liquidity = gql_data_processor(url)\n",
    "uniswap_liquidity.query_blocks(query,latest_block,block_lookback,step,entity)"
   ]
  },
  {
   "cell_type": "code",
   "execution_count": 76,
   "id": "77476ba5",
   "metadata": {},
   "outputs": [
    {
     "data": {
      "text/html": [
       "<div>\n",
       "<style scoped>\n",
       "    .dataframe tbody tr th:only-of-type {\n",
       "        vertical-align: middle;\n",
       "    }\n",
       "\n",
       "    .dataframe tbody tr th {\n",
       "        vertical-align: top;\n",
       "    }\n",
       "\n",
       "    .dataframe thead th {\n",
       "        text-align: right;\n",
       "    }\n",
       "</style>\n",
       "<table border=\"1\" class=\"dataframe\">\n",
       "  <thead>\n",
       "    <tr style=\"text-align: right;\">\n",
       "      <th></th>\n",
       "      <th>totalLiquidityUSD</th>\n",
       "      <th>totalVolumeUSD</th>\n",
       "      <th>txCount</th>\n",
       "      <th>block</th>\n",
       "    </tr>\n",
       "  </thead>\n",
       "  <tbody>\n",
       "    <tr>\n",
       "      <th>0</th>\n",
       "      <td>5068976844.268130309089611211901216</td>\n",
       "      <td>270485698473.5403427235153598532438</td>\n",
       "      <td>48435740</td>\n",
       "      <td>12504845</td>\n",
       "    </tr>\n",
       "    <tr>\n",
       "      <th>1</th>\n",
       "      <td>5068976844.268130309089611211901216</td>\n",
       "      <td>270485698473.5403427235153598532438</td>\n",
       "      <td>48435740</td>\n",
       "      <td>12504835</td>\n",
       "    </tr>\n",
       "    <tr>\n",
       "      <th>2</th>\n",
       "      <td>5068976844.268130309089611211901216</td>\n",
       "      <td>270485698473.5403427235153598532438</td>\n",
       "      <td>48435740</td>\n",
       "      <td>12504825</td>\n",
       "    </tr>\n",
       "    <tr>\n",
       "      <th>3</th>\n",
       "      <td>5068976844.268130309089611211901216</td>\n",
       "      <td>270485698473.5403427235153598532438</td>\n",
       "      <td>48435740</td>\n",
       "      <td>12504815</td>\n",
       "    </tr>\n",
       "    <tr>\n",
       "      <th>4</th>\n",
       "      <td>5068976844.268130309089611211901216</td>\n",
       "      <td>270485698473.5403427235153598532438</td>\n",
       "      <td>48435740</td>\n",
       "      <td>12504805</td>\n",
       "    </tr>\n",
       "  </tbody>\n",
       "</table>\n",
       "</div>"
      ],
      "text/plain": [
       "                     totalLiquidityUSD                       totalVolumeUSD  \\\n",
       "0  5068976844.268130309089611211901216  270485698473.5403427235153598532438   \n",
       "1  5068976844.268130309089611211901216  270485698473.5403427235153598532438   \n",
       "2  5068976844.268130309089611211901216  270485698473.5403427235153598532438   \n",
       "3  5068976844.268130309089611211901216  270485698473.5403427235153598532438   \n",
       "4  5068976844.268130309089611211901216  270485698473.5403427235153598532438   \n",
       "\n",
       "    txCount     block  \n",
       "0  48435740  12504845  \n",
       "1  48435740  12504835  \n",
       "2  48435740  12504825  \n",
       "3  48435740  12504815  \n",
       "4  48435740  12504805  "
      ]
     },
     "execution_count": 76,
     "metadata": {},
     "output_type": "execute_result"
    }
   ],
   "source": [
    "uniswap_liquidity.df.head()"
   ]
  }
 ],
 "metadata": {
  "kernelspec": {
   "display_name": "Python 3",
   "language": "python",
   "name": "python3"
  },
  "language_info": {
   "codemirror_mode": {
    "name": "ipython",
    "version": 3
   },
   "file_extension": ".py",
   "mimetype": "text/x-python",
   "name": "python",
   "nbconvert_exporter": "python",
   "pygments_lexer": "ipython3",
   "version": "3.9.1"
  }
 },
 "nbformat": 4,
 "nbformat_minor": 5
}
